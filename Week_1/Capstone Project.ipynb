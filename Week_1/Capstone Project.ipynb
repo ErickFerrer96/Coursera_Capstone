{
 "cells": [
  {
   "cell_type": "markdown",
   "metadata": {},
   "source": [
    "# Capstone project"
   ]
  },
  {
   "cell_type": "markdown",
   "metadata": {},
   "source": [
    "This jupyter notebook will be used mainly for the capstone project"
   ]
  },
  {
   "cell_type": "code",
   "execution_count": 1,
   "metadata": {},
   "outputs": [],
   "source": [
    "import pandas as pd\n",
    "import numpy  as np"
   ]
  },
  {
   "cell_type": "code",
   "execution_count": 2,
   "metadata": {},
   "outputs": [
    {
     "name": "stdout",
     "output_type": "stream",
     "text": [
      "Hello Capstone Project Course!\n"
     ]
    }
   ],
   "source": [
    "print('Hello Capstone Project Course!')"
   ]
  },
  {
   "cell_type": "markdown",
   "metadata": {},
   "source": [
    "# Introduction/Business Problem"
   ]
  },
  {
   "cell_type": "markdown",
   "metadata": {},
   "source": [
    "I find a dataset called **'US_Accidents_June20.csv'** that complies some requirements like this:\n",
    "\n",
    "1. Must have 'severity' as attribute.\n",
    "2. It's big enough.\n",
    "3. The main objective of the dataset is predict the severity.\n",
    "\n",
    "This is the description on kaggle:\n",
    "\n",
    "This is a countrywide car accident dataset, which covers 49 states of the USA. The accident data are collected from February 2016 to June 2020, using two APIs that provide streaming traffic incident (or event) data. These APIs broadcast traffic data captured by a variety of entities, such as the US and state departments of transportation, law enforcement agencies, traffic cameras, and traffic sensors within the road-networks. Currently, there are about 3.5 million accident records in this dataset.\n",
    "\n",
    "### Main problem\n",
    "\n",
    "With this dataset i have the data enough, so now defining the problem, is to predict the severity of a car accident based on attributes like temperature, wind, humidity, etc...\n",
    "But first, we have to look if the data is clean, and choose the best method to model the data.\n",
    "\n",
    "#### Bibliographical citations\n",
    "\n",
    "* Moosavi, Sobhan, Mohammad Hossein Samavatian, Srinivasan Parthasarathy, and Rajiv Ramnath. “A Countrywide Traffic Accident Dataset.”, 2019.\n",
    "\n",
    "* Moosavi, Sobhan, Mohammad Hossein Samavatian, Srinivasan Parthasarathy, Radu Teodorescu, and Rajiv Ramnath. \"Accident Risk Prediction based on Heterogeneous Sparse Data: New Dataset and Insights.\" In proceedings of the 27th ACM SIGSPATIAL International Conference on Advances in Geographic Information Systems, ACM, 2019."
   ]
  },
  {
   "cell_type": "markdown",
   "metadata": {},
   "source": [
    "# Data understanding"
   ]
  },
  {
   "cell_type": "markdown",
   "metadata": {},
   "source": [
    "To understand better the data i draw a table with the attribute and the description"
   ]
  },
  {
   "cell_type": "markdown",
   "metadata": {},
   "source": [
    "| Attribute  | Description | Data    type |\n",
    "|  ------    |   ------    |  ------   |\n",
    "|   ID       | This is a unique identifier of the accident record.                                 |  object |   \n",
    "|   Source   | Indicates source of the accident report (i.e. the API which reported the accident.) |  object |\n",
    "|   TMC      | A traffic accident may have a Traffic Message Channel (TMC) code which provides more detailed description of the event.                                                                          | float64 |\n",
    "|   Severity       | Shows the severity of the accident, a number between 1 and 4, where 1 indicates the least impact on traffic (i.e., short delay as a result of the accident) and 4 indicates a significant impact on traffic (i.e., long delay). Note that severity reported by different sources may differ in their underlying impact on traffic, so please separate data from different sources when doing severity-based analysis.        | int64   |\n",
    "|   Start_Time       | Shows start time of the accident in local time zone.                        | object  |\n",
    "|   End_Time       | Shows end time of the accident in local time zone. End time here refers to when the impact of accident on traffic flow was dismissed.                                                            | object  |\n",
    "|   Start_Lat| Shows latitude in GPS coordinate of the start point.                                | float64 |\n",
    "|   Start_Lng       | Shows longitude in GPS coordinate of the start point.                        | float64 |\n",
    "|   End_Lat       | Shows latitude in GPS coordinate of the end point.                             | float64 |\n",
    "|   End_Lng       | Shows longitude in GPS coordinate of the end point.                            | float64 |\n",
    "|   Distance(mi)       | The length of the road extent affected by the accident.                   | float64 |\n",
    "|   Description       | Shows natural language description of the accident.                        | object  |\n",
    "|   Number       | Shows the street number in address record.                                      | float64 |\n",
    "|   Street     | Shows the street name in address record.                                          | object  |\n",
    "|   Side     | Shows the relative side of the street (Right/Left) in address record.               | object  |\n",
    "|   City      | Shows the city in address record.                                                  | object  |    \n",
    "|   County     | Shows the county in address record.                                               | object  |\n",
    "|   State       | Shows the state in address record.                                               | object  |\n",
    "|   Zipcode       | Shows the country in address record.                                           | object  |\n",
    "|   Timezone       | Shows timezone based on the location of the accident (eastern, central, etc.).| object  |\n",
    "|   Airport_Code    | Denotes an airport-based weather station which is the closest one to location of the accident.                                                                                          | object  |\n",
    "|   Weather_Timestamp       | Shows the time-stamp of weather observation record (in local time).  | object  |   |Temperature(F)       | Shows the temperature (in Fahrenheit).                                     | float64 |\n",
    "|   Wind_Chill(F)       | Shows the wind chill (in Fahrenheit).                                    | float64 |\n",
    "|   Humidity(%)       | Shows the humidity (in percentage).                                        | float64 |\n",
    "|   Pressure(in)       | Shows the air pressure (in inches).                                       | float64 |\n",
    "|   Visibility(mi)       | Shows visibility (in miles).                                            | float64 |\n",
    "|   Wind_Direction       | Shows wind direction.                                                   | object  |\n",
    "|   Wind_Speed(mph)       | Shows wind speed (in miles per hour).                                  | float64 |\n",
    "|   Precipitation(in)       | Shows precipitation amount in inches, if there is any.               | float64 |\n",
    "|   Weather_Condition       | Shows the weather condition (rain, snow, thunderstorm, fog, etc.)    | object  |\n",
    "|   Amenity       | A POI annotation which indicates presence of amenity in a nearby location.     | bool    |\n",
    "|   Bump       | A POI annotation which indicates presence of speed bump or hump in a nearby location.| bool    |\n",
    "|   Crossing       | A POI annotation which indicates presence of crossing in a nearby location.   | bool    |\n",
    "|   Give_Way       | A POI annotation which indicates presence of give_way in a nearby location.   | bool    |\n",
    "|   Junction       | A POI annotation which indicates presence of junction in a nearby location.   | bool    |\n",
    "|   No_Exit       | A POI annotation which indicates presence of no_exit in a nearby location.     | bool    | \n",
    "|   Railway       | A POI annotation which indicates presence of railway in a nearby location.     | bool    |\n",
    "|   Roundabout       | A POI annotation which indicates presence of roundabout in a nearby location.| bool   |\n",
    "|   Station       | A POI annotation which indicates presence of station in a nearby location.     | bool    |\n",
    "|   Stop       | A POI annotation which indicates presence of stop in a nearby location.           | bool    |\n",
    "|   Traffic_Calming       | A POI annotation which indicates presence of traffic_calming in a nearby location.| bool    |\n",
    "|   Traffic_Signal       | A POI annotation which indicates presence of traffic_signal in a nearby location. | bool    |\n",
    "|   Turning_Loop       | A POI annotation which indicates presence of turning_loop in a nearby location.| bool |\n",
    "|   Sunrise_Sunset       | Shows the period of day (i.e. day or night) based on sunrise/sunset.    | object  |\n",
    "|   Civil_Twilight       | Shows the period of day (i.e. day or night) based on civil twilight.    | object  |\n",
    "|   Nautical_Twilight       | Shows the period of day (i.e. day or night) based on nautical twilight. | object  |\n",
    "|   Astronomical_Twilight       | Shows the period of day (i.e. day or night) based on astronomical twilight.| object  |"
   ]
  },
  {
   "cell_type": "markdown",
   "metadata": {},
   "source": [
    "So looking at the attributes we have, i think there's enough variables to predict the severity of an accident in this dataset, and good coherent variables."
   ]
  },
  {
   "cell_type": "markdown",
   "metadata": {},
   "source": []
  }
 ],
 "metadata": {
  "kernelspec": {
   "display_name": "Python 3",
   "language": "python",
   "name": "python3"
  },
  "language_info": {
   "codemirror_mode": {
    "name": "ipython",
    "version": 3
   },
   "file_extension": ".py",
   "mimetype": "text/x-python",
   "name": "python",
   "nbconvert_exporter": "python",
   "pygments_lexer": "ipython3",
   "version": "3.8.3"
  }
 },
 "nbformat": 4,
 "nbformat_minor": 4
}
